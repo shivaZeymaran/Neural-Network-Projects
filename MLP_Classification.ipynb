{
  "nbformat": 4,
  "nbformat_minor": 0,
  "metadata": {
    "colab": {
      "provenance": [],
      "collapsed_sections": [
        "WBkaI8zkIwdR",
        "2gqdNwEcJR51",
        "JM3iigoxJ3d9",
        "IvjxODZMKPG4",
        "gO1A_OjGLv3_",
        "VI8tzfljL-YW",
        "xx4YJaUjMU5q",
        "AqzcJ4YxfRPN",
        "yEPoKNDBpHce",
        "cbJY-soBriSQ"
      ],
      "toc_visible": true
    },
    "kernelspec": {
      "name": "python3",
      "display_name": "Python 3"
    },
    "language_info": {
      "name": "python"
    }
  },
  "cells": [
    {
      "cell_type": "markdown",
      "source": [
        "# Classification Problem"
      ],
      "metadata": {
        "id": "Mcv3HfhIInwK"
      }
    },
    {
      "cell_type": "code",
      "execution_count": null,
      "metadata": {
        "id": "GrKXKb5TIbIx"
      },
      "outputs": [],
      "source": [
        "import pandas as pd\n",
        "import matplotlib.pyplot as plt\n",
        "import numpy as np\n",
        "from sklearn.model_selection import train_test_split\n",
        "from keras import models\n",
        "from keras import layers\n",
        "from keras.optimizers import SGD\n",
        "from keras.utils.np_utils import to_categorical\n",
        "from keras import regularizers"
      ]
    },
    {
      "cell_type": "code",
      "source": [
        "# Access to google drive\n",
        "from google.colab import drive\n",
        "drive.mount('/content/gdrive')"
      ],
      "metadata": {
        "colab": {
          "base_uri": "https://localhost:8080/"
        },
        "id": "b5xfXgm5It0k",
        "outputId": "42c7a4e9-6412-4bc4-d5ef-568563612e20"
      },
      "execution_count": null,
      "outputs": [
        {
          "output_type": "stream",
          "name": "stdout",
          "text": [
            "Drive already mounted at /content/gdrive; to attempt to forcibly remount, call drive.mount(\"/content/gdrive\", force_remount=True).\n"
          ]
        }
      ]
    },
    {
      "cell_type": "markdown",
      "source": [
        "## Load Dataset"
      ],
      "metadata": {
        "id": "WBkaI8zkIwdR"
      }
    },
    {
      "cell_type": "code",
      "source": [
        "# Read dataset from google drive\n",
        "df = pd.read_csv('/content/gdrive/MyDrive/Colab Notebooks/breast-cancerData.csv')\n",
        "df.head(5)"
      ],
      "metadata": {
        "colab": {
          "base_uri": "https://localhost:8080/"
        },
        "id": "IWCVmwv8IyI8",
        "outputId": "9f27547f-7be8-49fc-9315-f7e915ce6259"
      },
      "execution_count": null,
      "outputs": [
        {
          "output_type": "execute_result",
          "data": {
            "text/plain": [
              "         0  1  2  3  4  5   6  7  8  9  10\n",
              "0  1000025  5  1  1  1  2   1  3  1  1   2\n",
              "1  1002945  5  4  4  5  7  10  3  2  1   2\n",
              "2  1015425  3  1  1  1  2   2  3  1  1   2\n",
              "3  1016277  6  8  8  1  3   4  3  7  1   2\n",
              "4  1017023  4  1  1  3  2   1  3  1  1   2"
            ],
            "text/html": [
              "\n",
              "  <div id=\"df-a7669db8-0620-46a0-abfc-e7fb4c7c56f3\">\n",
              "    <div class=\"colab-df-container\">\n",
              "      <div>\n",
              "<style scoped>\n",
              "    .dataframe tbody tr th:only-of-type {\n",
              "        vertical-align: middle;\n",
              "    }\n",
              "\n",
              "    .dataframe tbody tr th {\n",
              "        vertical-align: top;\n",
              "    }\n",
              "\n",
              "    .dataframe thead th {\n",
              "        text-align: right;\n",
              "    }\n",
              "</style>\n",
              "<table border=\"1\" class=\"dataframe\">\n",
              "  <thead>\n",
              "    <tr style=\"text-align: right;\">\n",
              "      <th></th>\n",
              "      <th>0</th>\n",
              "      <th>1</th>\n",
              "      <th>2</th>\n",
              "      <th>3</th>\n",
              "      <th>4</th>\n",
              "      <th>5</th>\n",
              "      <th>6</th>\n",
              "      <th>7</th>\n",
              "      <th>8</th>\n",
              "      <th>9</th>\n",
              "      <th>10</th>\n",
              "    </tr>\n",
              "  </thead>\n",
              "  <tbody>\n",
              "    <tr>\n",
              "      <th>0</th>\n",
              "      <td>1000025</td>\n",
              "      <td>5</td>\n",
              "      <td>1</td>\n",
              "      <td>1</td>\n",
              "      <td>1</td>\n",
              "      <td>2</td>\n",
              "      <td>1</td>\n",
              "      <td>3</td>\n",
              "      <td>1</td>\n",
              "      <td>1</td>\n",
              "      <td>2</td>\n",
              "    </tr>\n",
              "    <tr>\n",
              "      <th>1</th>\n",
              "      <td>1002945</td>\n",
              "      <td>5</td>\n",
              "      <td>4</td>\n",
              "      <td>4</td>\n",
              "      <td>5</td>\n",
              "      <td>7</td>\n",
              "      <td>10</td>\n",
              "      <td>3</td>\n",
              "      <td>2</td>\n",
              "      <td>1</td>\n",
              "      <td>2</td>\n",
              "    </tr>\n",
              "    <tr>\n",
              "      <th>2</th>\n",
              "      <td>1015425</td>\n",
              "      <td>3</td>\n",
              "      <td>1</td>\n",
              "      <td>1</td>\n",
              "      <td>1</td>\n",
              "      <td>2</td>\n",
              "      <td>2</td>\n",
              "      <td>3</td>\n",
              "      <td>1</td>\n",
              "      <td>1</td>\n",
              "      <td>2</td>\n",
              "    </tr>\n",
              "    <tr>\n",
              "      <th>3</th>\n",
              "      <td>1016277</td>\n",
              "      <td>6</td>\n",
              "      <td>8</td>\n",
              "      <td>8</td>\n",
              "      <td>1</td>\n",
              "      <td>3</td>\n",
              "      <td>4</td>\n",
              "      <td>3</td>\n",
              "      <td>7</td>\n",
              "      <td>1</td>\n",
              "      <td>2</td>\n",
              "    </tr>\n",
              "    <tr>\n",
              "      <th>4</th>\n",
              "      <td>1017023</td>\n",
              "      <td>4</td>\n",
              "      <td>1</td>\n",
              "      <td>1</td>\n",
              "      <td>3</td>\n",
              "      <td>2</td>\n",
              "      <td>1</td>\n",
              "      <td>3</td>\n",
              "      <td>1</td>\n",
              "      <td>1</td>\n",
              "      <td>2</td>\n",
              "    </tr>\n",
              "  </tbody>\n",
              "</table>\n",
              "</div>\n",
              "      <button class=\"colab-df-convert\" onclick=\"convertToInteractive('df-a7669db8-0620-46a0-abfc-e7fb4c7c56f3')\"\n",
              "              title=\"Convert this dataframe to an interactive table.\"\n",
              "              style=\"display:none;\">\n",
              "        \n",
              "  <svg xmlns=\"http://www.w3.org/2000/svg\" height=\"24px\"viewBox=\"0 0 24 24\"\n",
              "       width=\"24px\">\n",
              "    <path d=\"M0 0h24v24H0V0z\" fill=\"none\"/>\n",
              "    <path d=\"M18.56 5.44l.94 2.06.94-2.06 2.06-.94-2.06-.94-.94-2.06-.94 2.06-2.06.94zm-11 1L8.5 8.5l.94-2.06 2.06-.94-2.06-.94L8.5 2.5l-.94 2.06-2.06.94zm10 10l.94 2.06.94-2.06 2.06-.94-2.06-.94-.94-2.06-.94 2.06-2.06.94z\"/><path d=\"M17.41 7.96l-1.37-1.37c-.4-.4-.92-.59-1.43-.59-.52 0-1.04.2-1.43.59L10.3 9.45l-7.72 7.72c-.78.78-.78 2.05 0 2.83L4 21.41c.39.39.9.59 1.41.59.51 0 1.02-.2 1.41-.59l7.78-7.78 2.81-2.81c.8-.78.8-2.07 0-2.86zM5.41 20L4 18.59l7.72-7.72 1.47 1.35L5.41 20z\"/>\n",
              "  </svg>\n",
              "      </button>\n",
              "      \n",
              "  <style>\n",
              "    .colab-df-container {\n",
              "      display:flex;\n",
              "      flex-wrap:wrap;\n",
              "      gap: 12px;\n",
              "    }\n",
              "\n",
              "    .colab-df-convert {\n",
              "      background-color: #E8F0FE;\n",
              "      border: none;\n",
              "      border-radius: 50%;\n",
              "      cursor: pointer;\n",
              "      display: none;\n",
              "      fill: #1967D2;\n",
              "      height: 32px;\n",
              "      padding: 0 0 0 0;\n",
              "      width: 32px;\n",
              "    }\n",
              "\n",
              "    .colab-df-convert:hover {\n",
              "      background-color: #E2EBFA;\n",
              "      box-shadow: 0px 1px 2px rgba(60, 64, 67, 0.3), 0px 1px 3px 1px rgba(60, 64, 67, 0.15);\n",
              "      fill: #174EA6;\n",
              "    }\n",
              "\n",
              "    [theme=dark] .colab-df-convert {\n",
              "      background-color: #3B4455;\n",
              "      fill: #D2E3FC;\n",
              "    }\n",
              "\n",
              "    [theme=dark] .colab-df-convert:hover {\n",
              "      background-color: #434B5C;\n",
              "      box-shadow: 0px 1px 3px 1px rgba(0, 0, 0, 0.15);\n",
              "      filter: drop-shadow(0px 1px 2px rgba(0, 0, 0, 0.3));\n",
              "      fill: #FFFFFF;\n",
              "    }\n",
              "  </style>\n",
              "\n",
              "      <script>\n",
              "        const buttonEl =\n",
              "          document.querySelector('#df-a7669db8-0620-46a0-abfc-e7fb4c7c56f3 button.colab-df-convert');\n",
              "        buttonEl.style.display =\n",
              "          google.colab.kernel.accessAllowed ? 'block' : 'none';\n",
              "\n",
              "        async function convertToInteractive(key) {\n",
              "          const element = document.querySelector('#df-a7669db8-0620-46a0-abfc-e7fb4c7c56f3');\n",
              "          const dataTable =\n",
              "            await google.colab.kernel.invokeFunction('convertToInteractive',\n",
              "                                                     [key], {});\n",
              "          if (!dataTable) return;\n",
              "\n",
              "          const docLinkHtml = 'Like what you see? Visit the ' +\n",
              "            '<a target=\"_blank\" href=https://colab.research.google.com/notebooks/data_table.ipynb>data table notebook</a>'\n",
              "            + ' to learn more about interactive tables.';\n",
              "          element.innerHTML = '';\n",
              "          dataTable['output_type'] = 'display_data';\n",
              "          await google.colab.output.renderOutput(dataTable, element);\n",
              "          const docLink = document.createElement('div');\n",
              "          docLink.innerHTML = docLinkHtml;\n",
              "          element.appendChild(docLink);\n",
              "        }\n",
              "      </script>\n",
              "    </div>\n",
              "  </div>\n",
              "  "
            ]
          },
          "metadata": {},
          "execution_count": 3
        }
      ]
    },
    {
      "cell_type": "code",
      "source": [
        "df.shape"
      ],
      "metadata": {
        "colab": {
          "base_uri": "https://localhost:8080/"
        },
        "id": "vkltmLcyJEiN",
        "outputId": "1204154c-862a-42e0-ba6a-87862544d07f"
      },
      "execution_count": null,
      "outputs": [
        {
          "output_type": "execute_result",
          "data": {
            "text/plain": [
              "(699, 11)"
            ]
          },
          "metadata": {},
          "execution_count": 4
        }
      ]
    },
    {
      "cell_type": "markdown",
      "source": [
        "## Preprocess"
      ],
      "metadata": {
        "id": "2gqdNwEcJR51"
      }
    },
    {
      "cell_type": "code",
      "source": [
        "# Check for missing data and drop them\n",
        "df.dropna()\n",
        "df.shape"
      ],
      "metadata": {
        "colab": {
          "base_uri": "https://localhost:8080/"
        },
        "id": "2NlF2WiALMk7",
        "outputId": "6f55be43-53db-4ee3-9967-478022372d80"
      },
      "execution_count": null,
      "outputs": [
        {
          "output_type": "execute_result",
          "data": {
            "text/plain": [
              "(699, 11)"
            ]
          },
          "metadata": {},
          "execution_count": 5
        }
      ]
    },
    {
      "cell_type": "code",
      "source": [
        "# Delete the first column (ID)\n",
        "del df['0']\n",
        "df.head(5)"
      ],
      "metadata": {
        "colab": {
          "base_uri": "https://localhost:8080/",
          "height": 206
        },
        "id": "cAtMvNC3JOED",
        "outputId": "ea2e7784-75a6-460c-9a87-9d8daf4c08fa"
      },
      "execution_count": null,
      "outputs": [
        {
          "output_type": "execute_result",
          "data": {
            "text/plain": [
              "   1  2  3  4  5   6  7  8  9  10\n",
              "0  5  1  1  1  2   1  3  1  1   2\n",
              "1  5  4  4  5  7  10  3  2  1   2\n",
              "2  3  1  1  1  2   2  3  1  1   2\n",
              "3  6  8  8  1  3   4  3  7  1   2\n",
              "4  4  1  1  3  2   1  3  1  1   2"
            ],
            "text/html": [
              "\n",
              "  <div id=\"df-a70774b7-e3cb-4bcf-9013-8ab54c767273\">\n",
              "    <div class=\"colab-df-container\">\n",
              "      <div>\n",
              "<style scoped>\n",
              "    .dataframe tbody tr th:only-of-type {\n",
              "        vertical-align: middle;\n",
              "    }\n",
              "\n",
              "    .dataframe tbody tr th {\n",
              "        vertical-align: top;\n",
              "    }\n",
              "\n",
              "    .dataframe thead th {\n",
              "        text-align: right;\n",
              "    }\n",
              "</style>\n",
              "<table border=\"1\" class=\"dataframe\">\n",
              "  <thead>\n",
              "    <tr style=\"text-align: right;\">\n",
              "      <th></th>\n",
              "      <th>1</th>\n",
              "      <th>2</th>\n",
              "      <th>3</th>\n",
              "      <th>4</th>\n",
              "      <th>5</th>\n",
              "      <th>6</th>\n",
              "      <th>7</th>\n",
              "      <th>8</th>\n",
              "      <th>9</th>\n",
              "      <th>10</th>\n",
              "    </tr>\n",
              "  </thead>\n",
              "  <tbody>\n",
              "    <tr>\n",
              "      <th>0</th>\n",
              "      <td>5</td>\n",
              "      <td>1</td>\n",
              "      <td>1</td>\n",
              "      <td>1</td>\n",
              "      <td>2</td>\n",
              "      <td>1</td>\n",
              "      <td>3</td>\n",
              "      <td>1</td>\n",
              "      <td>1</td>\n",
              "      <td>2</td>\n",
              "    </tr>\n",
              "    <tr>\n",
              "      <th>1</th>\n",
              "      <td>5</td>\n",
              "      <td>4</td>\n",
              "      <td>4</td>\n",
              "      <td>5</td>\n",
              "      <td>7</td>\n",
              "      <td>10</td>\n",
              "      <td>3</td>\n",
              "      <td>2</td>\n",
              "      <td>1</td>\n",
              "      <td>2</td>\n",
              "    </tr>\n",
              "    <tr>\n",
              "      <th>2</th>\n",
              "      <td>3</td>\n",
              "      <td>1</td>\n",
              "      <td>1</td>\n",
              "      <td>1</td>\n",
              "      <td>2</td>\n",
              "      <td>2</td>\n",
              "      <td>3</td>\n",
              "      <td>1</td>\n",
              "      <td>1</td>\n",
              "      <td>2</td>\n",
              "    </tr>\n",
              "    <tr>\n",
              "      <th>3</th>\n",
              "      <td>6</td>\n",
              "      <td>8</td>\n",
              "      <td>8</td>\n",
              "      <td>1</td>\n",
              "      <td>3</td>\n",
              "      <td>4</td>\n",
              "      <td>3</td>\n",
              "      <td>7</td>\n",
              "      <td>1</td>\n",
              "      <td>2</td>\n",
              "    </tr>\n",
              "    <tr>\n",
              "      <th>4</th>\n",
              "      <td>4</td>\n",
              "      <td>1</td>\n",
              "      <td>1</td>\n",
              "      <td>3</td>\n",
              "      <td>2</td>\n",
              "      <td>1</td>\n",
              "      <td>3</td>\n",
              "      <td>1</td>\n",
              "      <td>1</td>\n",
              "      <td>2</td>\n",
              "    </tr>\n",
              "  </tbody>\n",
              "</table>\n",
              "</div>\n",
              "      <button class=\"colab-df-convert\" onclick=\"convertToInteractive('df-a70774b7-e3cb-4bcf-9013-8ab54c767273')\"\n",
              "              title=\"Convert this dataframe to an interactive table.\"\n",
              "              style=\"display:none;\">\n",
              "        \n",
              "  <svg xmlns=\"http://www.w3.org/2000/svg\" height=\"24px\"viewBox=\"0 0 24 24\"\n",
              "       width=\"24px\">\n",
              "    <path d=\"M0 0h24v24H0V0z\" fill=\"none\"/>\n",
              "    <path d=\"M18.56 5.44l.94 2.06.94-2.06 2.06-.94-2.06-.94-.94-2.06-.94 2.06-2.06.94zm-11 1L8.5 8.5l.94-2.06 2.06-.94-2.06-.94L8.5 2.5l-.94 2.06-2.06.94zm10 10l.94 2.06.94-2.06 2.06-.94-2.06-.94-.94-2.06-.94 2.06-2.06.94z\"/><path d=\"M17.41 7.96l-1.37-1.37c-.4-.4-.92-.59-1.43-.59-.52 0-1.04.2-1.43.59L10.3 9.45l-7.72 7.72c-.78.78-.78 2.05 0 2.83L4 21.41c.39.39.9.59 1.41.59.51 0 1.02-.2 1.41-.59l7.78-7.78 2.81-2.81c.8-.78.8-2.07 0-2.86zM5.41 20L4 18.59l7.72-7.72 1.47 1.35L5.41 20z\"/>\n",
              "  </svg>\n",
              "      </button>\n",
              "      \n",
              "  <style>\n",
              "    .colab-df-container {\n",
              "      display:flex;\n",
              "      flex-wrap:wrap;\n",
              "      gap: 12px;\n",
              "    }\n",
              "\n",
              "    .colab-df-convert {\n",
              "      background-color: #E8F0FE;\n",
              "      border: none;\n",
              "      border-radius: 50%;\n",
              "      cursor: pointer;\n",
              "      display: none;\n",
              "      fill: #1967D2;\n",
              "      height: 32px;\n",
              "      padding: 0 0 0 0;\n",
              "      width: 32px;\n",
              "    }\n",
              "\n",
              "    .colab-df-convert:hover {\n",
              "      background-color: #E2EBFA;\n",
              "      box-shadow: 0px 1px 2px rgba(60, 64, 67, 0.3), 0px 1px 3px 1px rgba(60, 64, 67, 0.15);\n",
              "      fill: #174EA6;\n",
              "    }\n",
              "\n",
              "    [theme=dark] .colab-df-convert {\n",
              "      background-color: #3B4455;\n",
              "      fill: #D2E3FC;\n",
              "    }\n",
              "\n",
              "    [theme=dark] .colab-df-convert:hover {\n",
              "      background-color: #434B5C;\n",
              "      box-shadow: 0px 1px 3px 1px rgba(0, 0, 0, 0.15);\n",
              "      filter: drop-shadow(0px 1px 2px rgba(0, 0, 0, 0.3));\n",
              "      fill: #FFFFFF;\n",
              "    }\n",
              "  </style>\n",
              "\n",
              "      <script>\n",
              "        const buttonEl =\n",
              "          document.querySelector('#df-a70774b7-e3cb-4bcf-9013-8ab54c767273 button.colab-df-convert');\n",
              "        buttonEl.style.display =\n",
              "          google.colab.kernel.accessAllowed ? 'block' : 'none';\n",
              "\n",
              "        async function convertToInteractive(key) {\n",
              "          const element = document.querySelector('#df-a70774b7-e3cb-4bcf-9013-8ab54c767273');\n",
              "          const dataTable =\n",
              "            await google.colab.kernel.invokeFunction('convertToInteractive',\n",
              "                                                     [key], {});\n",
              "          if (!dataTable) return;\n",
              "\n",
              "          const docLinkHtml = 'Like what you see? Visit the ' +\n",
              "            '<a target=\"_blank\" href=https://colab.research.google.com/notebooks/data_table.ipynb>data table notebook</a>'\n",
              "            + ' to learn more about interactive tables.';\n",
              "          element.innerHTML = '';\n",
              "          dataTable['output_type'] = 'display_data';\n",
              "          await google.colab.output.renderOutput(dataTable, element);\n",
              "          const docLink = document.createElement('div');\n",
              "          docLink.innerHTML = docLinkHtml;\n",
              "          element.appendChild(docLink);\n",
              "        }\n",
              "      </script>\n",
              "    </div>\n",
              "  </div>\n",
              "  "
            ]
          },
          "metadata": {},
          "execution_count": 6
        }
      ]
    },
    {
      "cell_type": "markdown",
      "source": [
        "### Separate features and label"
      ],
      "metadata": {
        "id": "JM3iigoxJ3d9"
      }
    },
    {
      "cell_type": "code",
      "source": [
        "# seperate the target column\n",
        "X = df.iloc[:,:-1]\n",
        "y = df.iloc[:,-1]"
      ],
      "metadata": {
        "id": "GNRQ4jM9J22C"
      },
      "execution_count": null,
      "outputs": []
    },
    {
      "cell_type": "code",
      "source": [
        "X.head(5)"
      ],
      "metadata": {
        "colab": {
          "base_uri": "https://localhost:8080/"
        },
        "id": "9698g2QtKAq_",
        "outputId": "8cd46893-beea-4661-f896-dc1bed659fc1"
      },
      "execution_count": null,
      "outputs": [
        {
          "output_type": "execute_result",
          "data": {
            "text/plain": [
              "   1  2  3  4  5   6  7  8  9\n",
              "0  5  1  1  1  2   1  3  1  1\n",
              "1  5  4  4  5  7  10  3  2  1\n",
              "2  3  1  1  1  2   2  3  1  1\n",
              "3  6  8  8  1  3   4  3  7  1\n",
              "4  4  1  1  3  2   1  3  1  1"
            ],
            "text/html": [
              "\n",
              "  <div id=\"df-51b0dfa9-a997-4d81-99da-7a7970bdb452\">\n",
              "    <div class=\"colab-df-container\">\n",
              "      <div>\n",
              "<style scoped>\n",
              "    .dataframe tbody tr th:only-of-type {\n",
              "        vertical-align: middle;\n",
              "    }\n",
              "\n",
              "    .dataframe tbody tr th {\n",
              "        vertical-align: top;\n",
              "    }\n",
              "\n",
              "    .dataframe thead th {\n",
              "        text-align: right;\n",
              "    }\n",
              "</style>\n",
              "<table border=\"1\" class=\"dataframe\">\n",
              "  <thead>\n",
              "    <tr style=\"text-align: right;\">\n",
              "      <th></th>\n",
              "      <th>1</th>\n",
              "      <th>2</th>\n",
              "      <th>3</th>\n",
              "      <th>4</th>\n",
              "      <th>5</th>\n",
              "      <th>6</th>\n",
              "      <th>7</th>\n",
              "      <th>8</th>\n",
              "      <th>9</th>\n",
              "    </tr>\n",
              "  </thead>\n",
              "  <tbody>\n",
              "    <tr>\n",
              "      <th>0</th>\n",
              "      <td>5</td>\n",
              "      <td>1</td>\n",
              "      <td>1</td>\n",
              "      <td>1</td>\n",
              "      <td>2</td>\n",
              "      <td>1</td>\n",
              "      <td>3</td>\n",
              "      <td>1</td>\n",
              "      <td>1</td>\n",
              "    </tr>\n",
              "    <tr>\n",
              "      <th>1</th>\n",
              "      <td>5</td>\n",
              "      <td>4</td>\n",
              "      <td>4</td>\n",
              "      <td>5</td>\n",
              "      <td>7</td>\n",
              "      <td>10</td>\n",
              "      <td>3</td>\n",
              "      <td>2</td>\n",
              "      <td>1</td>\n",
              "    </tr>\n",
              "    <tr>\n",
              "      <th>2</th>\n",
              "      <td>3</td>\n",
              "      <td>1</td>\n",
              "      <td>1</td>\n",
              "      <td>1</td>\n",
              "      <td>2</td>\n",
              "      <td>2</td>\n",
              "      <td>3</td>\n",
              "      <td>1</td>\n",
              "      <td>1</td>\n",
              "    </tr>\n",
              "    <tr>\n",
              "      <th>3</th>\n",
              "      <td>6</td>\n",
              "      <td>8</td>\n",
              "      <td>8</td>\n",
              "      <td>1</td>\n",
              "      <td>3</td>\n",
              "      <td>4</td>\n",
              "      <td>3</td>\n",
              "      <td>7</td>\n",
              "      <td>1</td>\n",
              "    </tr>\n",
              "    <tr>\n",
              "      <th>4</th>\n",
              "      <td>4</td>\n",
              "      <td>1</td>\n",
              "      <td>1</td>\n",
              "      <td>3</td>\n",
              "      <td>2</td>\n",
              "      <td>1</td>\n",
              "      <td>3</td>\n",
              "      <td>1</td>\n",
              "      <td>1</td>\n",
              "    </tr>\n",
              "  </tbody>\n",
              "</table>\n",
              "</div>\n",
              "      <button class=\"colab-df-convert\" onclick=\"convertToInteractive('df-51b0dfa9-a997-4d81-99da-7a7970bdb452')\"\n",
              "              title=\"Convert this dataframe to an interactive table.\"\n",
              "              style=\"display:none;\">\n",
              "        \n",
              "  <svg xmlns=\"http://www.w3.org/2000/svg\" height=\"24px\"viewBox=\"0 0 24 24\"\n",
              "       width=\"24px\">\n",
              "    <path d=\"M0 0h24v24H0V0z\" fill=\"none\"/>\n",
              "    <path d=\"M18.56 5.44l.94 2.06.94-2.06 2.06-.94-2.06-.94-.94-2.06-.94 2.06-2.06.94zm-11 1L8.5 8.5l.94-2.06 2.06-.94-2.06-.94L8.5 2.5l-.94 2.06-2.06.94zm10 10l.94 2.06.94-2.06 2.06-.94-2.06-.94-.94-2.06-.94 2.06-2.06.94z\"/><path d=\"M17.41 7.96l-1.37-1.37c-.4-.4-.92-.59-1.43-.59-.52 0-1.04.2-1.43.59L10.3 9.45l-7.72 7.72c-.78.78-.78 2.05 0 2.83L4 21.41c.39.39.9.59 1.41.59.51 0 1.02-.2 1.41-.59l7.78-7.78 2.81-2.81c.8-.78.8-2.07 0-2.86zM5.41 20L4 18.59l7.72-7.72 1.47 1.35L5.41 20z\"/>\n",
              "  </svg>\n",
              "      </button>\n",
              "      \n",
              "  <style>\n",
              "    .colab-df-container {\n",
              "      display:flex;\n",
              "      flex-wrap:wrap;\n",
              "      gap: 12px;\n",
              "    }\n",
              "\n",
              "    .colab-df-convert {\n",
              "      background-color: #E8F0FE;\n",
              "      border: none;\n",
              "      border-radius: 50%;\n",
              "      cursor: pointer;\n",
              "      display: none;\n",
              "      fill: #1967D2;\n",
              "      height: 32px;\n",
              "      padding: 0 0 0 0;\n",
              "      width: 32px;\n",
              "    }\n",
              "\n",
              "    .colab-df-convert:hover {\n",
              "      background-color: #E2EBFA;\n",
              "      box-shadow: 0px 1px 2px rgba(60, 64, 67, 0.3), 0px 1px 3px 1px rgba(60, 64, 67, 0.15);\n",
              "      fill: #174EA6;\n",
              "    }\n",
              "\n",
              "    [theme=dark] .colab-df-convert {\n",
              "      background-color: #3B4455;\n",
              "      fill: #D2E3FC;\n",
              "    }\n",
              "\n",
              "    [theme=dark] .colab-df-convert:hover {\n",
              "      background-color: #434B5C;\n",
              "      box-shadow: 0px 1px 3px 1px rgba(0, 0, 0, 0.15);\n",
              "      filter: drop-shadow(0px 1px 2px rgba(0, 0, 0, 0.3));\n",
              "      fill: #FFFFFF;\n",
              "    }\n",
              "  </style>\n",
              "\n",
              "      <script>\n",
              "        const buttonEl =\n",
              "          document.querySelector('#df-51b0dfa9-a997-4d81-99da-7a7970bdb452 button.colab-df-convert');\n",
              "        buttonEl.style.display =\n",
              "          google.colab.kernel.accessAllowed ? 'block' : 'none';\n",
              "\n",
              "        async function convertToInteractive(key) {\n",
              "          const element = document.querySelector('#df-51b0dfa9-a997-4d81-99da-7a7970bdb452');\n",
              "          const dataTable =\n",
              "            await google.colab.kernel.invokeFunction('convertToInteractive',\n",
              "                                                     [key], {});\n",
              "          if (!dataTable) return;\n",
              "\n",
              "          const docLinkHtml = 'Like what you see? Visit the ' +\n",
              "            '<a target=\"_blank\" href=https://colab.research.google.com/notebooks/data_table.ipynb>data table notebook</a>'\n",
              "            + ' to learn more about interactive tables.';\n",
              "          element.innerHTML = '';\n",
              "          dataTable['output_type'] = 'display_data';\n",
              "          await google.colab.output.renderOutput(dataTable, element);\n",
              "          const docLink = document.createElement('div');\n",
              "          docLink.innerHTML = docLinkHtml;\n",
              "          element.appendChild(docLink);\n",
              "        }\n",
              "      </script>\n",
              "    </div>\n",
              "  </div>\n",
              "  "
            ]
          },
          "metadata": {},
          "execution_count": 8
        }
      ]
    },
    {
      "cell_type": "code",
      "source": [
        "y.head(5)"
      ],
      "metadata": {
        "colab": {
          "base_uri": "https://localhost:8080/"
        },
        "id": "zA9_PcOSKBNc",
        "outputId": "2c9938fb-8ef1-422b-9900-68ab1027af3b"
      },
      "execution_count": null,
      "outputs": [
        {
          "output_type": "execute_result",
          "data": {
            "text/plain": [
              "0    2\n",
              "1    2\n",
              "2    2\n",
              "3    2\n",
              "4    2\n",
              "Name: 10, dtype: int64"
            ]
          },
          "metadata": {},
          "execution_count": 9
        }
      ]
    },
    {
      "cell_type": "markdown",
      "source": [
        "### Change label values to 0/1"
      ],
      "metadata": {
        "id": "IvjxODZMKPG4"
      }
    },
    {
      "cell_type": "code",
      "source": [
        "y.unique()"
      ],
      "metadata": {
        "colab": {
          "base_uri": "https://localhost:8080/"
        },
        "id": "FnQP6AbBKFvw",
        "outputId": "7de3b5bc-3014-4470-d155-6d77d3b9d6bb"
      },
      "execution_count": null,
      "outputs": [
        {
          "output_type": "execute_result",
          "data": {
            "text/plain": [
              "array([2, 4])"
            ]
          },
          "metadata": {},
          "execution_count": 10
        }
      ]
    },
    {
      "cell_type": "code",
      "source": [
        "y = y.replace([2, 4], [0, 1])\n",
        "y.head(5)"
      ],
      "metadata": {
        "colab": {
          "base_uri": "https://localhost:8080/"
        },
        "id": "8OOSqkqnKOq8",
        "outputId": "dc6a6709-f09f-4e1d-97e1-882b2adaf479"
      },
      "execution_count": null,
      "outputs": [
        {
          "output_type": "execute_result",
          "data": {
            "text/plain": [
              "0    0\n",
              "1    0\n",
              "2    0\n",
              "3    0\n",
              "4    0\n",
              "Name: 10, dtype: int64"
            ]
          },
          "metadata": {},
          "execution_count": 11
        }
      ]
    },
    {
      "cell_type": "code",
      "source": [
        "y.unique()"
      ],
      "metadata": {
        "colab": {
          "base_uri": "https://localhost:8080/"
        },
        "id": "dktPfz6xLmGY",
        "outputId": "8b372c92-cf1f-4b26-8cc5-26cc952a21c4"
      },
      "execution_count": null,
      "outputs": [
        {
          "output_type": "execute_result",
          "data": {
            "text/plain": [
              "array([0, 1])"
            ]
          },
          "metadata": {},
          "execution_count": 12
        }
      ]
    },
    {
      "cell_type": "code",
      "source": [
        "# y = to_categorical(y)\n",
        "# y"
      ],
      "metadata": {
        "id": "118l_I5aM6w4"
      },
      "execution_count": null,
      "outputs": []
    },
    {
      "cell_type": "markdown",
      "source": [
        "### Split data to test/train"
      ],
      "metadata": {
        "id": "gO1A_OjGLv3_"
      }
    },
    {
      "cell_type": "code",
      "source": [
        "# Split test and train sets\n",
        "X_train, X_test, y_train, y_test = train_test_split(X, y, test_size=0.33, random_state=7)\n",
        "\n",
        "print(\"X_train dataset: \", X_train.shape)\n",
        "print(\"y_train dataset: \", y_train.shape)\n",
        "print(\"X_test dataset: \", X_test.shape)\n",
        "print(\"y_test dataset: \", y_test.shape)"
      ],
      "metadata": {
        "colab": {
          "base_uri": "https://localhost:8080/"
        },
        "id": "89UiRXSALwpc",
        "outputId": "a16d65f8-fa44-4610-dac4-8e15225054a3"
      },
      "execution_count": null,
      "outputs": [
        {
          "output_type": "stream",
          "name": "stdout",
          "text": [
            "X_train dataset:  (468, 9)\n",
            "y_train dataset:  (468,)\n",
            "X_test dataset:  (231, 9)\n",
            "y_test dataset:  (231,)\n"
          ]
        }
      ]
    },
    {
      "cell_type": "markdown",
      "source": [
        "### Normalize data"
      ],
      "metadata": {
        "id": "VI8tzfljL-YW"
      }
    },
    {
      "cell_type": "code",
      "source": [
        "X_train_scaled = X_train.copy()\n",
        "\n",
        "# Each standardized value is computed by subtracting the mean of the corresponding feature then dividing by the quality deviation\n",
        "for column in X_train_scaled.columns:\n",
        "    X_train_scaled[column] = (X_train_scaled[column] - X_train[column].mean()) / X_train[column].std()\n",
        "\n",
        "X_train_scaled.head(5)"
      ],
      "metadata": {
        "colab": {
          "base_uri": "https://localhost:8080/"
        },
        "id": "noUVkTbLL-_C",
        "outputId": "6e531ef5-4b8e-42be-a781-f4997794e135"
      },
      "execution_count": null,
      "outputs": [
        {
          "output_type": "execute_result",
          "data": {
            "text/plain": [
              "            1         2         3         4         5         6         7  \\\n",
              "568  1.217114  0.263176  0.253797 -0.651484  1.227228  0.148049 -0.615998   \n",
              "390 -1.192110 -0.704100 -0.747133 -0.308521 -0.550923  0.147427 -0.615998   \n",
              "38   0.184589  0.263176  0.253797  2.092224 -0.550923  0.148049  0.633801   \n",
              "547 -0.847935 -0.704100 -0.747133 -0.651484 -0.995460  0.147427 -1.032597   \n",
              "294 -1.192110 -0.704100 -0.747133 -0.651484 -0.550923 -6.760335 -0.615998   \n",
              "\n",
              "            8         9  \n",
              "568  0.701137  0.216425  \n",
              "390 -0.610081 -0.349423  \n",
              "38   1.028942 -0.349423  \n",
              "547 -0.610081 -0.349423  \n",
              "294 -0.610081 -0.349423  "
            ],
            "text/html": [
              "\n",
              "  <div id=\"df-44b9b7f3-45f5-4ed4-a2a1-249bc38ac97a\">\n",
              "    <div class=\"colab-df-container\">\n",
              "      <div>\n",
              "<style scoped>\n",
              "    .dataframe tbody tr th:only-of-type {\n",
              "        vertical-align: middle;\n",
              "    }\n",
              "\n",
              "    .dataframe tbody tr th {\n",
              "        vertical-align: top;\n",
              "    }\n",
              "\n",
              "    .dataframe thead th {\n",
              "        text-align: right;\n",
              "    }\n",
              "</style>\n",
              "<table border=\"1\" class=\"dataframe\">\n",
              "  <thead>\n",
              "    <tr style=\"text-align: right;\">\n",
              "      <th></th>\n",
              "      <th>1</th>\n",
              "      <th>2</th>\n",
              "      <th>3</th>\n",
              "      <th>4</th>\n",
              "      <th>5</th>\n",
              "      <th>6</th>\n",
              "      <th>7</th>\n",
              "      <th>8</th>\n",
              "      <th>9</th>\n",
              "    </tr>\n",
              "  </thead>\n",
              "  <tbody>\n",
              "    <tr>\n",
              "      <th>568</th>\n",
              "      <td>1.217114</td>\n",
              "      <td>0.263176</td>\n",
              "      <td>0.253797</td>\n",
              "      <td>-0.651484</td>\n",
              "      <td>1.227228</td>\n",
              "      <td>0.148049</td>\n",
              "      <td>-0.615998</td>\n",
              "      <td>0.701137</td>\n",
              "      <td>0.216425</td>\n",
              "    </tr>\n",
              "    <tr>\n",
              "      <th>390</th>\n",
              "      <td>-1.192110</td>\n",
              "      <td>-0.704100</td>\n",
              "      <td>-0.747133</td>\n",
              "      <td>-0.308521</td>\n",
              "      <td>-0.550923</td>\n",
              "      <td>0.147427</td>\n",
              "      <td>-0.615998</td>\n",
              "      <td>-0.610081</td>\n",
              "      <td>-0.349423</td>\n",
              "    </tr>\n",
              "    <tr>\n",
              "      <th>38</th>\n",
              "      <td>0.184589</td>\n",
              "      <td>0.263176</td>\n",
              "      <td>0.253797</td>\n",
              "      <td>2.092224</td>\n",
              "      <td>-0.550923</td>\n",
              "      <td>0.148049</td>\n",
              "      <td>0.633801</td>\n",
              "      <td>1.028942</td>\n",
              "      <td>-0.349423</td>\n",
              "    </tr>\n",
              "    <tr>\n",
              "      <th>547</th>\n",
              "      <td>-0.847935</td>\n",
              "      <td>-0.704100</td>\n",
              "      <td>-0.747133</td>\n",
              "      <td>-0.651484</td>\n",
              "      <td>-0.995460</td>\n",
              "      <td>0.147427</td>\n",
              "      <td>-1.032597</td>\n",
              "      <td>-0.610081</td>\n",
              "      <td>-0.349423</td>\n",
              "    </tr>\n",
              "    <tr>\n",
              "      <th>294</th>\n",
              "      <td>-1.192110</td>\n",
              "      <td>-0.704100</td>\n",
              "      <td>-0.747133</td>\n",
              "      <td>-0.651484</td>\n",
              "      <td>-0.550923</td>\n",
              "      <td>-6.760335</td>\n",
              "      <td>-0.615998</td>\n",
              "      <td>-0.610081</td>\n",
              "      <td>-0.349423</td>\n",
              "    </tr>\n",
              "  </tbody>\n",
              "</table>\n",
              "</div>\n",
              "      <button class=\"colab-df-convert\" onclick=\"convertToInteractive('df-44b9b7f3-45f5-4ed4-a2a1-249bc38ac97a')\"\n",
              "              title=\"Convert this dataframe to an interactive table.\"\n",
              "              style=\"display:none;\">\n",
              "        \n",
              "  <svg xmlns=\"http://www.w3.org/2000/svg\" height=\"24px\"viewBox=\"0 0 24 24\"\n",
              "       width=\"24px\">\n",
              "    <path d=\"M0 0h24v24H0V0z\" fill=\"none\"/>\n",
              "    <path d=\"M18.56 5.44l.94 2.06.94-2.06 2.06-.94-2.06-.94-.94-2.06-.94 2.06-2.06.94zm-11 1L8.5 8.5l.94-2.06 2.06-.94-2.06-.94L8.5 2.5l-.94 2.06-2.06.94zm10 10l.94 2.06.94-2.06 2.06-.94-2.06-.94-.94-2.06-.94 2.06-2.06.94z\"/><path d=\"M17.41 7.96l-1.37-1.37c-.4-.4-.92-.59-1.43-.59-.52 0-1.04.2-1.43.59L10.3 9.45l-7.72 7.72c-.78.78-.78 2.05 0 2.83L4 21.41c.39.39.9.59 1.41.59.51 0 1.02-.2 1.41-.59l7.78-7.78 2.81-2.81c.8-.78.8-2.07 0-2.86zM5.41 20L4 18.59l7.72-7.72 1.47 1.35L5.41 20z\"/>\n",
              "  </svg>\n",
              "      </button>\n",
              "      \n",
              "  <style>\n",
              "    .colab-df-container {\n",
              "      display:flex;\n",
              "      flex-wrap:wrap;\n",
              "      gap: 12px;\n",
              "    }\n",
              "\n",
              "    .colab-df-convert {\n",
              "      background-color: #E8F0FE;\n",
              "      border: none;\n",
              "      border-radius: 50%;\n",
              "      cursor: pointer;\n",
              "      display: none;\n",
              "      fill: #1967D2;\n",
              "      height: 32px;\n",
              "      padding: 0 0 0 0;\n",
              "      width: 32px;\n",
              "    }\n",
              "\n",
              "    .colab-df-convert:hover {\n",
              "      background-color: #E2EBFA;\n",
              "      box-shadow: 0px 1px 2px rgba(60, 64, 67, 0.3), 0px 1px 3px 1px rgba(60, 64, 67, 0.15);\n",
              "      fill: #174EA6;\n",
              "    }\n",
              "\n",
              "    [theme=dark] .colab-df-convert {\n",
              "      background-color: #3B4455;\n",
              "      fill: #D2E3FC;\n",
              "    }\n",
              "\n",
              "    [theme=dark] .colab-df-convert:hover {\n",
              "      background-color: #434B5C;\n",
              "      box-shadow: 0px 1px 3px 1px rgba(0, 0, 0, 0.15);\n",
              "      filter: drop-shadow(0px 1px 2px rgba(0, 0, 0, 0.3));\n",
              "      fill: #FFFFFF;\n",
              "    }\n",
              "  </style>\n",
              "\n",
              "      <script>\n",
              "        const buttonEl =\n",
              "          document.querySelector('#df-44b9b7f3-45f5-4ed4-a2a1-249bc38ac97a button.colab-df-convert');\n",
              "        buttonEl.style.display =\n",
              "          google.colab.kernel.accessAllowed ? 'block' : 'none';\n",
              "\n",
              "        async function convertToInteractive(key) {\n",
              "          const element = document.querySelector('#df-44b9b7f3-45f5-4ed4-a2a1-249bc38ac97a');\n",
              "          const dataTable =\n",
              "            await google.colab.kernel.invokeFunction('convertToInteractive',\n",
              "                                                     [key], {});\n",
              "          if (!dataTable) return;\n",
              "\n",
              "          const docLinkHtml = 'Like what you see? Visit the ' +\n",
              "            '<a target=\"_blank\" href=https://colab.research.google.com/notebooks/data_table.ipynb>data table notebook</a>'\n",
              "            + ' to learn more about interactive tables.';\n",
              "          element.innerHTML = '';\n",
              "          dataTable['output_type'] = 'display_data';\n",
              "          await google.colab.output.renderOutput(dataTable, element);\n",
              "          const docLink = document.createElement('div');\n",
              "          docLink.innerHTML = docLinkHtml;\n",
              "          element.appendChild(docLink);\n",
              "        }\n",
              "      </script>\n",
              "    </div>\n",
              "  </div>\n",
              "  "
            ]
          },
          "metadata": {},
          "execution_count": 15
        }
      ]
    },
    {
      "cell_type": "code",
      "source": [
        "X_test_scaled = X_test.copy()\n",
        "\n",
        "# Each standardized value is computed by subtracting the mean of the corresponding feature then dividing by the quality deviation\n",
        "for column in X_test_scaled.columns:\n",
        "    X_test_scaled[column] = (X_test_scaled[column] - X_train[column].mean()) / X_train[column].std()\n",
        "\n",
        "X_test_scaled.head(5)"
      ],
      "metadata": {
        "colab": {
          "base_uri": "https://localhost:8080/"
        },
        "id": "vAZP9__ZMGbY",
        "outputId": "f935a023-7cbb-42a7-95c6-d4cf3fa4f1b7"
      },
      "execution_count": null,
      "outputs": [
        {
          "output_type": "execute_result",
          "data": {
            "text/plain": [
              "            1         2         3         4         5         6         7  \\\n",
              "300  1.217114  0.263176  2.255656  0.720370  0.338153  0.147634  1.467000   \n",
              "394 -1.192110 -0.381674 -0.079846 -0.651484 -0.550923  0.147427 -0.615998   \n",
              "606 -0.159585 -0.704100 -0.747133 -0.308521 -0.550923  0.147427 -1.032597   \n",
              "371 -1.192110 -0.704100 -0.079846 -0.651484 -0.550923  0.147427 -1.032597   \n",
              "493  0.184589  2.197728  2.255656  2.435187  1.227228  0.148049  1.050401   \n",
              "\n",
              "            8         9  \n",
              "300  2.340160 -0.349423  \n",
              "394 -0.610081 -0.349423  \n",
              "606 -0.610081 -0.349423  \n",
              "371 -0.610081 -0.349423  \n",
              "493  0.701137  0.216425  "
            ],
            "text/html": [
              "\n",
              "  <div id=\"df-04371ad3-78d0-448f-a797-9b72163ff72e\">\n",
              "    <div class=\"colab-df-container\">\n",
              "      <div>\n",
              "<style scoped>\n",
              "    .dataframe tbody tr th:only-of-type {\n",
              "        vertical-align: middle;\n",
              "    }\n",
              "\n",
              "    .dataframe tbody tr th {\n",
              "        vertical-align: top;\n",
              "    }\n",
              "\n",
              "    .dataframe thead th {\n",
              "        text-align: right;\n",
              "    }\n",
              "</style>\n",
              "<table border=\"1\" class=\"dataframe\">\n",
              "  <thead>\n",
              "    <tr style=\"text-align: right;\">\n",
              "      <th></th>\n",
              "      <th>1</th>\n",
              "      <th>2</th>\n",
              "      <th>3</th>\n",
              "      <th>4</th>\n",
              "      <th>5</th>\n",
              "      <th>6</th>\n",
              "      <th>7</th>\n",
              "      <th>8</th>\n",
              "      <th>9</th>\n",
              "    </tr>\n",
              "  </thead>\n",
              "  <tbody>\n",
              "    <tr>\n",
              "      <th>300</th>\n",
              "      <td>1.217114</td>\n",
              "      <td>0.263176</td>\n",
              "      <td>2.255656</td>\n",
              "      <td>0.720370</td>\n",
              "      <td>0.338153</td>\n",
              "      <td>0.147634</td>\n",
              "      <td>1.467000</td>\n",
              "      <td>2.340160</td>\n",
              "      <td>-0.349423</td>\n",
              "    </tr>\n",
              "    <tr>\n",
              "      <th>394</th>\n",
              "      <td>-1.192110</td>\n",
              "      <td>-0.381674</td>\n",
              "      <td>-0.079846</td>\n",
              "      <td>-0.651484</td>\n",
              "      <td>-0.550923</td>\n",
              "      <td>0.147427</td>\n",
              "      <td>-0.615998</td>\n",
              "      <td>-0.610081</td>\n",
              "      <td>-0.349423</td>\n",
              "    </tr>\n",
              "    <tr>\n",
              "      <th>606</th>\n",
              "      <td>-0.159585</td>\n",
              "      <td>-0.704100</td>\n",
              "      <td>-0.747133</td>\n",
              "      <td>-0.308521</td>\n",
              "      <td>-0.550923</td>\n",
              "      <td>0.147427</td>\n",
              "      <td>-1.032597</td>\n",
              "      <td>-0.610081</td>\n",
              "      <td>-0.349423</td>\n",
              "    </tr>\n",
              "    <tr>\n",
              "      <th>371</th>\n",
              "      <td>-1.192110</td>\n",
              "      <td>-0.704100</td>\n",
              "      <td>-0.079846</td>\n",
              "      <td>-0.651484</td>\n",
              "      <td>-0.550923</td>\n",
              "      <td>0.147427</td>\n",
              "      <td>-1.032597</td>\n",
              "      <td>-0.610081</td>\n",
              "      <td>-0.349423</td>\n",
              "    </tr>\n",
              "    <tr>\n",
              "      <th>493</th>\n",
              "      <td>0.184589</td>\n",
              "      <td>2.197728</td>\n",
              "      <td>2.255656</td>\n",
              "      <td>2.435187</td>\n",
              "      <td>1.227228</td>\n",
              "      <td>0.148049</td>\n",
              "      <td>1.050401</td>\n",
              "      <td>0.701137</td>\n",
              "      <td>0.216425</td>\n",
              "    </tr>\n",
              "  </tbody>\n",
              "</table>\n",
              "</div>\n",
              "      <button class=\"colab-df-convert\" onclick=\"convertToInteractive('df-04371ad3-78d0-448f-a797-9b72163ff72e')\"\n",
              "              title=\"Convert this dataframe to an interactive table.\"\n",
              "              style=\"display:none;\">\n",
              "        \n",
              "  <svg xmlns=\"http://www.w3.org/2000/svg\" height=\"24px\"viewBox=\"0 0 24 24\"\n",
              "       width=\"24px\">\n",
              "    <path d=\"M0 0h24v24H0V0z\" fill=\"none\"/>\n",
              "    <path d=\"M18.56 5.44l.94 2.06.94-2.06 2.06-.94-2.06-.94-.94-2.06-.94 2.06-2.06.94zm-11 1L8.5 8.5l.94-2.06 2.06-.94-2.06-.94L8.5 2.5l-.94 2.06-2.06.94zm10 10l.94 2.06.94-2.06 2.06-.94-2.06-.94-.94-2.06-.94 2.06-2.06.94z\"/><path d=\"M17.41 7.96l-1.37-1.37c-.4-.4-.92-.59-1.43-.59-.52 0-1.04.2-1.43.59L10.3 9.45l-7.72 7.72c-.78.78-.78 2.05 0 2.83L4 21.41c.39.39.9.59 1.41.59.51 0 1.02-.2 1.41-.59l7.78-7.78 2.81-2.81c.8-.78.8-2.07 0-2.86zM5.41 20L4 18.59l7.72-7.72 1.47 1.35L5.41 20z\"/>\n",
              "  </svg>\n",
              "      </button>\n",
              "      \n",
              "  <style>\n",
              "    .colab-df-container {\n",
              "      display:flex;\n",
              "      flex-wrap:wrap;\n",
              "      gap: 12px;\n",
              "    }\n",
              "\n",
              "    .colab-df-convert {\n",
              "      background-color: #E8F0FE;\n",
              "      border: none;\n",
              "      border-radius: 50%;\n",
              "      cursor: pointer;\n",
              "      display: none;\n",
              "      fill: #1967D2;\n",
              "      height: 32px;\n",
              "      padding: 0 0 0 0;\n",
              "      width: 32px;\n",
              "    }\n",
              "\n",
              "    .colab-df-convert:hover {\n",
              "      background-color: #E2EBFA;\n",
              "      box-shadow: 0px 1px 2px rgba(60, 64, 67, 0.3), 0px 1px 3px 1px rgba(60, 64, 67, 0.15);\n",
              "      fill: #174EA6;\n",
              "    }\n",
              "\n",
              "    [theme=dark] .colab-df-convert {\n",
              "      background-color: #3B4455;\n",
              "      fill: #D2E3FC;\n",
              "    }\n",
              "\n",
              "    [theme=dark] .colab-df-convert:hover {\n",
              "      background-color: #434B5C;\n",
              "      box-shadow: 0px 1px 3px 1px rgba(0, 0, 0, 0.15);\n",
              "      filter: drop-shadow(0px 1px 2px rgba(0, 0, 0, 0.3));\n",
              "      fill: #FFFFFF;\n",
              "    }\n",
              "  </style>\n",
              "\n",
              "      <script>\n",
              "        const buttonEl =\n",
              "          document.querySelector('#df-04371ad3-78d0-448f-a797-9b72163ff72e button.colab-df-convert');\n",
              "        buttonEl.style.display =\n",
              "          google.colab.kernel.accessAllowed ? 'block' : 'none';\n",
              "\n",
              "        async function convertToInteractive(key) {\n",
              "          const element = document.querySelector('#df-04371ad3-78d0-448f-a797-9b72163ff72e');\n",
              "          const dataTable =\n",
              "            await google.colab.kernel.invokeFunction('convertToInteractive',\n",
              "                                                     [key], {});\n",
              "          if (!dataTable) return;\n",
              "\n",
              "          const docLinkHtml = 'Like what you see? Visit the ' +\n",
              "            '<a target=\"_blank\" href=https://colab.research.google.com/notebooks/data_table.ipynb>data table notebook</a>'\n",
              "            + ' to learn more about interactive tables.';\n",
              "          element.innerHTML = '';\n",
              "          dataTable['output_type'] = 'display_data';\n",
              "          await google.colab.output.renderOutput(dataTable, element);\n",
              "          const docLink = document.createElement('div');\n",
              "          docLink.innerHTML = docLinkHtml;\n",
              "          element.appendChild(docLink);\n",
              "        }\n",
              "      </script>\n",
              "    </div>\n",
              "  </div>\n",
              "  "
            ]
          },
          "metadata": {},
          "execution_count": 16
        }
      ]
    },
    {
      "cell_type": "markdown",
      "source": [
        "## MLP"
      ],
      "metadata": {
        "id": "xx4YJaUjMU5q"
      }
    },
    {
      "cell_type": "code",
      "source": [
        "def design_model():\n",
        "  # Architecture\n",
        "  model = models.Sequential()\n",
        "  ## 4 hidden layers\n",
        "  model.add(layers.Dense(256, activation='relu', input_shape=(9,)))\n",
        "  model.add(layers.Dense(64, activation='relu'))\n",
        "  model.add(layers.Dense(16, activation='relu'))\n",
        "  model.add(layers.Dense(16, activation='relu'))\n",
        "  ## output layer\n",
        "  model.add(layers.Dense(1, activation='sigmoid'))\n",
        "\n",
        "  # Compilation\n",
        "  sgd = SGD(lr=0.008)\n",
        "  model.compile(optimizer=sgd, loss='binary_crossentropy', metrics=['accuracy'])\n",
        "  return model"
      ],
      "metadata": {
        "id": "QoPsmj9lMGse"
      },
      "execution_count": null,
      "outputs": []
    },
    {
      "cell_type": "code",
      "source": [
        "# Validation set as a part of trainset\n",
        "X_val = X_train_scaled[:200]\n",
        "partial_X_train = X_train_scaled[200:]\n",
        "\n",
        "y_val = y_train[:200]\n",
        "partial_y_train = y_train[200:]"
      ],
      "metadata": {
        "id": "YAVduxPLMGxW"
      },
      "execution_count": null,
      "outputs": []
    },
    {
      "cell_type": "code",
      "source": [
        "model = design_model()\n",
        "history = model.fit(partial_X_train, partial_y_train, epochs=55, batch_size=1, validation_data=(X_val, y_val))"
      ],
      "metadata": {
        "colab": {
          "base_uri": "https://localhost:8080/"
        },
        "id": "HoxLtW3xcs0K",
        "outputId": "e8cbff84-c027-4b9d-9364-3615bef1df36"
      },
      "execution_count": null,
      "outputs": [
        {
          "output_type": "stream",
          "name": "stderr",
          "text": [
            "/usr/local/lib/python3.10/dist-packages/keras/optimizers/legacy/gradient_descent.py:114: UserWarning: The `lr` argument is deprecated, use `learning_rate` instead.\n",
            "  super().__init__(name, **kwargs)\n"
          ]
        },
        {
          "output_type": "stream",
          "name": "stdout",
          "text": [
            "Epoch 1/55\n",
            "268/268 [==============================] - 5s 9ms/step - loss: 0.5675 - accuracy: 0.8097 - val_loss: 0.3629 - val_accuracy: 0.9200\n",
            "Epoch 2/55\n",
            "268/268 [==============================] - 2s 6ms/step - loss: 0.2010 - accuracy: 0.9590 - val_loss: 0.0971 - val_accuracy: 0.9800\n",
            "Epoch 3/55\n",
            "268/268 [==============================] - 2s 6ms/step - loss: 0.0984 - accuracy: 0.9664 - val_loss: 0.0634 - val_accuracy: 0.9850\n",
            "Epoch 4/55\n",
            "268/268 [==============================] - 1s 5ms/step - loss: 0.0778 - accuracy: 0.9776 - val_loss: 0.0497 - val_accuracy: 0.9850\n",
            "Epoch 5/55\n",
            "268/268 [==============================] - 2s 7ms/step - loss: 0.0706 - accuracy: 0.9776 - val_loss: 0.0537 - val_accuracy: 0.9850\n",
            "Epoch 6/55\n",
            "268/268 [==============================] - 2s 7ms/step - loss: 0.0667 - accuracy: 0.9776 - val_loss: 0.0498 - val_accuracy: 0.9850\n",
            "Epoch 7/55\n",
            "268/268 [==============================] - 4s 15ms/step - loss: 0.0643 - accuracy: 0.9739 - val_loss: 0.0509 - val_accuracy: 0.9850\n",
            "Epoch 8/55\n",
            "268/268 [==============================] - 4s 14ms/step - loss: 0.0607 - accuracy: 0.9813 - val_loss: 0.0543 - val_accuracy: 0.9850\n",
            "Epoch 9/55\n",
            "268/268 [==============================] - 2s 6ms/step - loss: 0.0592 - accuracy: 0.9813 - val_loss: 0.0492 - val_accuracy: 0.9850\n",
            "Epoch 10/55\n",
            "268/268 [==============================] - 2s 6ms/step - loss: 0.0567 - accuracy: 0.9813 - val_loss: 0.0487 - val_accuracy: 0.9850\n",
            "Epoch 11/55\n",
            "268/268 [==============================] - 2s 6ms/step - loss: 0.0548 - accuracy: 0.9851 - val_loss: 0.0443 - val_accuracy: 0.9850\n",
            "Epoch 12/55\n",
            "268/268 [==============================] - 2s 6ms/step - loss: 0.0522 - accuracy: 0.9888 - val_loss: 0.0625 - val_accuracy: 0.9800\n",
            "Epoch 13/55\n",
            "268/268 [==============================] - 1s 5ms/step - loss: 0.0515 - accuracy: 0.9851 - val_loss: 0.0598 - val_accuracy: 0.9800\n",
            "Epoch 14/55\n",
            "268/268 [==============================] - 2s 6ms/step - loss: 0.0500 - accuracy: 0.9888 - val_loss: 0.0527 - val_accuracy: 0.9800\n",
            "Epoch 15/55\n",
            "268/268 [==============================] - 3s 10ms/step - loss: 0.0478 - accuracy: 0.9888 - val_loss: 0.0569 - val_accuracy: 0.9800\n",
            "Epoch 16/55\n",
            "268/268 [==============================] - 3s 12ms/step - loss: 0.0442 - accuracy: 0.9888 - val_loss: 0.0402 - val_accuracy: 0.9850\n",
            "Epoch 17/55\n",
            "268/268 [==============================] - 1s 3ms/step - loss: 0.0444 - accuracy: 0.9925 - val_loss: 0.0624 - val_accuracy: 0.9800\n",
            "Epoch 18/55\n",
            "268/268 [==============================] - 1s 3ms/step - loss: 0.0439 - accuracy: 0.9888 - val_loss: 0.0548 - val_accuracy: 0.9850\n",
            "Epoch 19/55\n",
            "268/268 [==============================] - 1s 3ms/step - loss: 0.0424 - accuracy: 0.9888 - val_loss: 0.0654 - val_accuracy: 0.9850\n",
            "Epoch 20/55\n",
            "268/268 [==============================] - 1s 3ms/step - loss: 0.0406 - accuracy: 0.9925 - val_loss: 0.0579 - val_accuracy: 0.9850\n",
            "Epoch 21/55\n",
            "268/268 [==============================] - 1s 3ms/step - loss: 0.0395 - accuracy: 0.9925 - val_loss: 0.0621 - val_accuracy: 0.9850\n",
            "Epoch 22/55\n",
            "268/268 [==============================] - 1s 3ms/step - loss: 0.0374 - accuracy: 0.9925 - val_loss: 0.0557 - val_accuracy: 0.9850\n",
            "Epoch 23/55\n",
            "268/268 [==============================] - 1s 3ms/step - loss: 0.0374 - accuracy: 0.9925 - val_loss: 0.0606 - val_accuracy: 0.9850\n",
            "Epoch 24/55\n",
            "268/268 [==============================] - 1s 3ms/step - loss: 0.0363 - accuracy: 0.9925 - val_loss: 0.0687 - val_accuracy: 0.9850\n",
            "Epoch 25/55\n",
            "268/268 [==============================] - 1s 3ms/step - loss: 0.0350 - accuracy: 0.9925 - val_loss: 0.0663 - val_accuracy: 0.9850\n",
            "Epoch 26/55\n",
            "268/268 [==============================] - 1s 3ms/step - loss: 0.0340 - accuracy: 0.9925 - val_loss: 0.0611 - val_accuracy: 0.9850\n",
            "Epoch 27/55\n",
            "268/268 [==============================] - 1s 3ms/step - loss: 0.0331 - accuracy: 0.9925 - val_loss: 0.0764 - val_accuracy: 0.9800\n",
            "Epoch 28/55\n",
            "268/268 [==============================] - 1s 5ms/step - loss: 0.0316 - accuracy: 0.9925 - val_loss: 0.0646 - val_accuracy: 0.9850\n",
            "Epoch 29/55\n",
            "268/268 [==============================] - 1s 4ms/step - loss: 0.0302 - accuracy: 0.9925 - val_loss: 0.0898 - val_accuracy: 0.9800\n",
            "Epoch 30/55\n",
            "268/268 [==============================] - 1s 5ms/step - loss: 0.0300 - accuracy: 0.9925 - val_loss: 0.0643 - val_accuracy: 0.9850\n",
            "Epoch 31/55\n",
            "268/268 [==============================] - 1s 3ms/step - loss: 0.0288 - accuracy: 0.9925 - val_loss: 0.0663 - val_accuracy: 0.9850\n",
            "Epoch 32/55\n",
            "268/268 [==============================] - 1s 3ms/step - loss: 0.0283 - accuracy: 0.9925 - val_loss: 0.0664 - val_accuracy: 0.9850\n",
            "Epoch 33/55\n",
            "268/268 [==============================] - 1s 3ms/step - loss: 0.0274 - accuracy: 0.9925 - val_loss: 0.0762 - val_accuracy: 0.9800\n",
            "Epoch 34/55\n",
            "268/268 [==============================] - 1s 3ms/step - loss: 0.0262 - accuracy: 0.9925 - val_loss: 0.0774 - val_accuracy: 0.9800\n",
            "Epoch 35/55\n",
            "268/268 [==============================] - 1s 3ms/step - loss: 0.0247 - accuracy: 0.9925 - val_loss: 0.0870 - val_accuracy: 0.9800\n",
            "Epoch 36/55\n",
            "268/268 [==============================] - 1s 4ms/step - loss: 0.0237 - accuracy: 0.9963 - val_loss: 0.0776 - val_accuracy: 0.9800\n",
            "Epoch 37/55\n",
            "268/268 [==============================] - 1s 3ms/step - loss: 0.0228 - accuracy: 0.9925 - val_loss: 0.1051 - val_accuracy: 0.9700\n",
            "Epoch 38/55\n",
            "268/268 [==============================] - 1s 3ms/step - loss: 0.0198 - accuracy: 0.9963 - val_loss: 0.0780 - val_accuracy: 0.9800\n",
            "Epoch 39/55\n",
            "268/268 [==============================] - 1s 3ms/step - loss: 0.0205 - accuracy: 0.9963 - val_loss: 0.0968 - val_accuracy: 0.9800\n",
            "Epoch 40/55\n",
            "268/268 [==============================] - 1s 3ms/step - loss: 0.0187 - accuracy: 0.9963 - val_loss: 0.0912 - val_accuracy: 0.9800\n",
            "Epoch 41/55\n",
            "268/268 [==============================] - 1s 3ms/step - loss: 0.0174 - accuracy: 0.9963 - val_loss: 0.0925 - val_accuracy: 0.9800\n",
            "Epoch 42/55\n",
            "268/268 [==============================] - 1s 3ms/step - loss: 0.0163 - accuracy: 0.9963 - val_loss: 0.0921 - val_accuracy: 0.9800\n",
            "Epoch 43/55\n",
            "268/268 [==============================] - 1s 5ms/step - loss: 0.0155 - accuracy: 0.9963 - val_loss: 0.1104 - val_accuracy: 0.9700\n",
            "Epoch 44/55\n",
            "268/268 [==============================] - 1s 5ms/step - loss: 0.0140 - accuracy: 0.9963 - val_loss: 0.0900 - val_accuracy: 0.9800\n",
            "Epoch 45/55\n",
            "268/268 [==============================] - 1s 5ms/step - loss: 0.0142 - accuracy: 0.9963 - val_loss: 0.0975 - val_accuracy: 0.9800\n",
            "Epoch 46/55\n",
            "268/268 [==============================] - 1s 3ms/step - loss: 0.0125 - accuracy: 0.9963 - val_loss: 0.0886 - val_accuracy: 0.9800\n",
            "Epoch 47/55\n",
            "268/268 [==============================] - 1s 3ms/step - loss: 0.0131 - accuracy: 0.9963 - val_loss: 0.1091 - val_accuracy: 0.9800\n",
            "Epoch 48/55\n",
            "268/268 [==============================] - 1s 3ms/step - loss: 0.0112 - accuracy: 0.9963 - val_loss: 0.0890 - val_accuracy: 0.9800\n",
            "Epoch 49/55\n",
            "268/268 [==============================] - 1s 3ms/step - loss: 0.0097 - accuracy: 0.9963 - val_loss: 0.1198 - val_accuracy: 0.9700\n",
            "Epoch 50/55\n",
            "268/268 [==============================] - 1s 3ms/step - loss: 0.0095 - accuracy: 0.9963 - val_loss: 0.0865 - val_accuracy: 0.9800\n",
            "Epoch 51/55\n",
            "268/268 [==============================] - 1s 3ms/step - loss: 0.0088 - accuracy: 0.9963 - val_loss: 0.0895 - val_accuracy: 0.9800\n",
            "Epoch 52/55\n",
            "268/268 [==============================] - 1s 3ms/step - loss: 0.0102 - accuracy: 0.9963 - val_loss: 0.0812 - val_accuracy: 0.9800\n",
            "Epoch 53/55\n",
            "268/268 [==============================] - 1s 3ms/step - loss: 0.0098 - accuracy: 0.9963 - val_loss: 0.1050 - val_accuracy: 0.9800\n",
            "Epoch 54/55\n",
            "268/268 [==============================] - 1s 3ms/step - loss: 0.0076 - accuracy: 0.9963 - val_loss: 0.1332 - val_accuracy: 0.9700\n",
            "Epoch 55/55\n",
            "268/268 [==============================] - 1s 3ms/step - loss: 0.0074 - accuracy: 1.0000 - val_loss: 0.0992 - val_accuracy: 0.9800\n"
          ]
        }
      ]
    },
    {
      "cell_type": "code",
      "source": [
        "test_crossentropy, test_accuracy = model.evaluate(X_test_scaled, y_test)\n",
        "print('Loss of testset (Cross Entropy):', test_crossentropy)\n",
        "print('Metric of testset (Accuracy):', test_accuracy)"
      ],
      "metadata": {
        "colab": {
          "base_uri": "https://localhost:8080/"
        },
        "id": "mHQHQ4zGek7w",
        "outputId": "8954fb87-0755-4d3e-9893-6d1abd677283"
      },
      "execution_count": null,
      "outputs": [
        {
          "output_type": "stream",
          "name": "stdout",
          "text": [
            "8/8 [==============================] - 0s 3ms/step - loss: 0.4493 - accuracy: 0.9177\n",
            "Loss of testset (Cross Entropy): 0.4493444263935089\n",
            "Metric of testset (Accuracy): 0.9177489280700684\n"
          ]
        }
      ]
    },
    {
      "cell_type": "markdown",
      "source": [
        "## Plot Loss and Accuracy of train/validation"
      ],
      "metadata": {
        "id": "AqzcJ4YxfRPN"
      }
    },
    {
      "cell_type": "code",
      "source": [
        "history_dict = history.history\n",
        "history_dict.keys()"
      ],
      "metadata": {
        "colab": {
          "base_uri": "https://localhost:8080/"
        },
        "id": "QZTTIsZYej9M",
        "outputId": "d5449f60-bcee-420b-bbf5-6a52248ceaf6"
      },
      "execution_count": null,
      "outputs": [
        {
          "output_type": "execute_result",
          "data": {
            "text/plain": [
              "dict_keys(['loss', 'accuracy', 'val_loss', 'val_accuracy'])"
            ]
          },
          "metadata": {},
          "execution_count": 21
        }
      ]
    },
    {
      "cell_type": "code",
      "source": [
        "# Plot training and validation Loss\n",
        "\n",
        "train_loss_values = history_dict['loss']\n",
        "val_loss_values = history_dict['val_loss']\n",
        "epochs = range(1, len(train_loss_values)+1)\n",
        "\n",
        "plt.plot(epochs, train_loss_values, 'bo', label='Training loss')\n",
        "plt.plot(epochs, val_loss_values, 'b', label='Validation loss')\n",
        "plt.title('Training and validation Loss')\n",
        "plt.xlabel('Epochs')\n",
        "plt.ylabel('Loss')\n",
        "plt.legend()\n",
        "plt.show()"
      ],
      "metadata": {
        "colab": {
          "base_uri": "https://localhost:8080/",
          "height": 472
        },
        "id": "9-il8mrhfhSI",
        "outputId": "d19d3f18-aec8-401e-a30a-58157989a530"
      },
      "execution_count": null,
      "outputs": [
        {
          "output_type": "display_data",
          "data": {
            "text/plain": [
              "<Figure size 640x480 with 1 Axes>"
            ],
            "image/png": "[encoded data removed]"
          },
          "metadata": {}
        }
      ]
    },
    {
      "cell_type": "code",
      "source": [
        "# Plot training and validation Accuracy\n",
        "\n",
        "train_acc_values = history_dict['accuracy']\n",
        "val_acc_values = history_dict['val_accuracy']\n",
        "epochs = range(1, len(train_acc_values)+1)\n",
        "\n",
        "plt.plot(epochs, train_acc_values, 'bo', label='Training acc')\n",
        "plt.plot(epochs, val_acc_values, 'b', label='Validation acc')\n",
        "plt.title('Training and validation Accuracy')\n",
        "plt.xlabel('Epochs')\n",
        "plt.ylabel('Accuracy')\n",
        "plt.legend()\n",
        "plt.show()"
      ],
      "metadata": {
        "colab": {
          "base_uri": "https://localhost:8080/",
          "height": 472
        },
        "id": "Mz065zqpgJXZ",
        "outputId": "20caf69d-6c79-4f3f-9a70-0183a17d6835"
      },
      "execution_count": null,
      "outputs": [
        {
          "output_type": "display_data",
          "data": {
            "text/plain": [
              "<Figure size 640x480 with 1 Axes>"
            ],
            "image/png": "[encoded data removed]"
          },
          "metadata": {}
        }
      ]
    },
    {
      "cell_type": "markdown",
      "source": [
        "**It seems that best epoch for this problem is 5**"
      ],
      "metadata": {
        "id": "UosGSYMeggw0"
      }
    },
    {
      "cell_type": "markdown",
      "source": [
        "## Add Regularization"
      ],
      "metadata": {
        "id": "yEPoKNDBpHce"
      }
    },
    {
      "cell_type": "code",
      "source": [
        "def design_model_regularized():\n",
        "  # Architecture\n",
        "  model = models.Sequential()\n",
        "  ## 4 hidden layers\n",
        "  model.add(layers.Dense(256, kernel_regularizer=regularizers.l1(0.001), activation='relu', input_shape=(9,)))\n",
        "  model.add(layers.Dense(64, kernel_regularizer=regularizers.l1(0.001), activation='relu'))\n",
        "  model.add(layers.Dense(16, kernel_regularizer=regularizers.l1(0.001), activation='relu'))\n",
        "  model.add(layers.Dense(16, kernel_regularizer=regularizers.l1(0.001), activation='relu'))\n",
        "  ## output layer\n",
        "  model.add(layers.Dense(1, activation='sigmoid'))\n",
        "\n",
        "  # Compilation\n",
        "  sgd = SGD(lr=0.008)\n",
        "  model.compile(optimizer=sgd, loss='binary_crossentropy', metrics=['accuracy'])\n",
        "  return model"
      ],
      "metadata": {
        "id": "-hWZxL4Ugp2J"
      },
      "execution_count": null,
      "outputs": []
    },
    {
      "cell_type": "code",
      "source": [
        "regularized_model = design_model_regularized()\n",
        "history_reg = regularized_model.fit(partial_X_train, partial_y_train, epochs=55, batch_size=1, validation_data=(X_val, y_val))"
      ],
      "metadata": {
        "colab": {
          "base_uri": "https://localhost:8080/"
        },
        "id": "tPRyEZL2qUVg",
        "outputId": "44c546e8-4554-4dbd-b955-be4c9ed759fb"
      },
      "execution_count": null,
      "outputs": [
        {
          "output_type": "stream",
          "name": "stdout",
          "text": [
            "Epoch 1/55\n"
          ]
        },
        {
          "output_type": "stream",
          "name": "stderr",
          "text": [
            "/usr/local/lib/python3.10/dist-packages/keras/optimizers/legacy/gradient_descent.py:114: UserWarning: The `lr` argument is deprecated, use `learning_rate` instead.\n",
            "  super().__init__(name, **kwargs)\n"
          ]
        },
        {
          "output_type": "stream",
          "name": "stdout",
          "text": [
            "268/268 [==============================] - 2s 4ms/step - loss: 1.8397 - accuracy: 0.9291 - val_loss: 1.5791 - val_accuracy: 0.9850\n",
            "Epoch 2/55\n",
            "268/268 [==============================] - 1s 4ms/step - loss: 1.5530 - accuracy: 0.9664 - val_loss: 1.4728 - val_accuracy: 0.9850\n",
            "Epoch 3/55\n",
            "268/268 [==============================] - 1s 5ms/step - loss: 1.4851 - accuracy: 0.9739 - val_loss: 1.4242 - val_accuracy: 0.9900\n",
            "Epoch 4/55\n",
            "268/268 [==============================] - 1s 5ms/step - loss: 1.4364 - accuracy: 0.9739 - val_loss: 1.3818 - val_accuracy: 0.9900\n",
            "Epoch 5/55\n",
            "268/268 [==============================] - 1s 5ms/step - loss: 1.3910 - accuracy: 0.9776 - val_loss: 1.3475 - val_accuracy: 0.9800\n",
            "Epoch 6/55\n",
            "268/268 [==============================] - 1s 5ms/step - loss: 1.3497 - accuracy: 0.9739 - val_loss: 1.3063 - val_accuracy: 0.9900\n",
            "Epoch 7/55\n",
            "268/268 [==============================] - 1s 3ms/step - loss: 1.3093 - accuracy: 0.9776 - val_loss: 1.2593 - val_accuracy: 0.9950\n",
            "Epoch 8/55\n",
            "268/268 [==============================] - 1s 3ms/step - loss: 1.2695 - accuracy: 0.9813 - val_loss: 1.2317 - val_accuracy: 0.9850\n",
            "Epoch 9/55\n",
            "268/268 [==============================] - 1s 3ms/step - loss: 1.2312 - accuracy: 0.9776 - val_loss: 1.1854 - val_accuracy: 0.9950\n",
            "Epoch 10/55\n",
            "268/268 [==============================] - 1s 3ms/step - loss: 1.1934 - accuracy: 0.9851 - val_loss: 1.1476 - val_accuracy: 0.9900\n",
            "Epoch 11/55\n",
            "268/268 [==============================] - 1s 3ms/step - loss: 1.1575 - accuracy: 0.9813 - val_loss: 1.1153 - val_accuracy: 0.9950\n",
            "Epoch 12/55\n",
            "268/268 [==============================] - 1s 3ms/step - loss: 1.1187 - accuracy: 0.9888 - val_loss: 1.0759 - val_accuracy: 0.9900\n",
            "Epoch 13/55\n",
            "268/268 [==============================] - 1s 3ms/step - loss: 1.0871 - accuracy: 0.9813 - val_loss: 1.0563 - val_accuracy: 0.9900\n",
            "Epoch 14/55\n",
            "268/268 [==============================] - 1s 3ms/step - loss: 1.0507 - accuracy: 0.9888 - val_loss: 1.0283 - val_accuracy: 0.9850\n",
            "Epoch 15/55\n",
            "268/268 [==============================] - 1s 3ms/step - loss: 1.0158 - accuracy: 0.9851 - val_loss: 0.9834 - val_accuracy: 0.9900\n",
            "Epoch 16/55\n",
            "268/268 [==============================] - 1s 3ms/step - loss: 0.9850 - accuracy: 0.9888 - val_loss: 0.9540 - val_accuracy: 0.9900\n",
            "Epoch 17/55\n",
            "268/268 [==============================] - 1s 3ms/step - loss: 0.9514 - accuracy: 0.9851 - val_loss: 0.9441 - val_accuracy: 0.9850\n",
            "Epoch 18/55\n",
            "268/268 [==============================] - 1s 4ms/step - loss: 0.9190 - accuracy: 0.9925 - val_loss: 0.9327 - val_accuracy: 0.9650\n",
            "Epoch 19/55\n",
            "268/268 [==============================] - 1s 5ms/step - loss: 0.8906 - accuracy: 0.9851 - val_loss: 0.8648 - val_accuracy: 0.9850\n",
            "Epoch 20/55\n",
            "268/268 [==============================] - 1s 5ms/step - loss: 0.8582 - accuracy: 0.9888 - val_loss: 0.8383 - val_accuracy: 0.9850\n",
            "Epoch 21/55\n",
            "268/268 [==============================] - 1s 4ms/step - loss: 0.8299 - accuracy: 0.9888 - val_loss: 0.8193 - val_accuracy: 0.9850\n",
            "Epoch 22/55\n",
            "268/268 [==============================] - 1s 3ms/step - loss: 0.7991 - accuracy: 0.9925 - val_loss: 0.7791 - val_accuracy: 0.9800\n",
            "Epoch 23/55\n",
            "268/268 [==============================] - 1s 3ms/step - loss: 0.7745 - accuracy: 0.9888 - val_loss: 0.7511 - val_accuracy: 0.9800\n",
            "Epoch 24/55\n",
            "268/268 [==============================] - 1s 3ms/step - loss: 0.7474 - accuracy: 0.9888 - val_loss: 0.7363 - val_accuracy: 0.9850\n",
            "Epoch 25/55\n",
            "268/268 [==============================] - 1s 3ms/step - loss: 0.7195 - accuracy: 0.9888 - val_loss: 0.6989 - val_accuracy: 0.9850\n",
            "Epoch 26/55\n",
            "268/268 [==============================] - 1s 3ms/step - loss: 0.6948 - accuracy: 0.9888 - val_loss: 0.7121 - val_accuracy: 0.9650\n",
            "Epoch 27/55\n",
            "268/268 [==============================] - 1s 3ms/step - loss: 0.6700 - accuracy: 0.9888 - val_loss: 0.6686 - val_accuracy: 0.9850\n",
            "Epoch 28/55\n",
            "268/268 [==============================] - 1s 3ms/step - loss: 0.6438 - accuracy: 0.9888 - val_loss: 0.6278 - val_accuracy: 0.9850\n",
            "Epoch 29/55\n",
            "268/268 [==============================] - 1s 3ms/step - loss: 0.6236 - accuracy: 0.9888 - val_loss: 0.6173 - val_accuracy: 0.9800\n",
            "Epoch 30/55\n",
            "268/268 [==============================] - 1s 3ms/step - loss: 0.5992 - accuracy: 0.9888 - val_loss: 0.5975 - val_accuracy: 0.9800\n",
            "Epoch 31/55\n",
            "268/268 [==============================] - 1s 3ms/step - loss: 0.5754 - accuracy: 0.9925 - val_loss: 0.5974 - val_accuracy: 0.9700\n",
            "Epoch 32/55\n",
            "268/268 [==============================] - 1s 4ms/step - loss: 0.5543 - accuracy: 0.9963 - val_loss: 0.5439 - val_accuracy: 0.9800\n",
            "Epoch 33/55\n",
            "268/268 [==============================] - 1s 5ms/step - loss: 0.5350 - accuracy: 0.9888 - val_loss: 0.5207 - val_accuracy: 0.9850\n",
            "Epoch 34/55\n",
            "268/268 [==============================] - 1s 5ms/step - loss: 0.5150 - accuracy: 0.9888 - val_loss: 0.5153 - val_accuracy: 0.9800\n",
            "Epoch 35/55\n",
            "268/268 [==============================] - 1s 4ms/step - loss: 0.4956 - accuracy: 0.9888 - val_loss: 0.4960 - val_accuracy: 0.9800\n",
            "Epoch 36/55\n",
            "268/268 [==============================] - 1s 3ms/step - loss: 0.4767 - accuracy: 0.9888 - val_loss: 0.4711 - val_accuracy: 0.9800\n",
            "Epoch 37/55\n",
            "268/268 [==============================] - 1s 3ms/step - loss: 0.4578 - accuracy: 0.9888 - val_loss: 0.4590 - val_accuracy: 0.9800\n",
            "Epoch 38/55\n",
            "268/268 [==============================] - 1s 3ms/step - loss: 0.4397 - accuracy: 0.9888 - val_loss: 0.4561 - val_accuracy: 0.9700\n",
            "Epoch 39/55\n",
            "268/268 [==============================] - 1s 3ms/step - loss: 0.4226 - accuracy: 0.9888 - val_loss: 0.4382 - val_accuracy: 0.9750\n",
            "Epoch 40/55\n",
            "268/268 [==============================] - 1s 3ms/step - loss: 0.4086 - accuracy: 0.9888 - val_loss: 0.4159 - val_accuracy: 0.9800\n",
            "Epoch 41/55\n",
            "268/268 [==============================] - 1s 3ms/step - loss: 0.3910 - accuracy: 0.9888 - val_loss: 0.3935 - val_accuracy: 0.9800\n",
            "Epoch 42/55\n",
            "268/268 [==============================] - 1s 3ms/step - loss: 0.3765 - accuracy: 0.9888 - val_loss: 0.3805 - val_accuracy: 0.9800\n",
            "Epoch 43/55\n",
            "268/268 [==============================] - 1s 3ms/step - loss: 0.3620 - accuracy: 0.9888 - val_loss: 0.3559 - val_accuracy: 0.9800\n",
            "Epoch 44/55\n",
            "268/268 [==============================] - 1s 3ms/step - loss: 0.3483 - accuracy: 0.9925 - val_loss: 0.3508 - val_accuracy: 0.9800\n",
            "Epoch 45/55\n",
            "268/268 [==============================] - 1s 3ms/step - loss: 0.3339 - accuracy: 0.9888 - val_loss: 0.3291 - val_accuracy: 0.9800\n",
            "Epoch 46/55\n",
            "268/268 [==============================] - 1s 3ms/step - loss: 0.3193 - accuracy: 0.9925 - val_loss: 0.3220 - val_accuracy: 0.9800\n",
            "Epoch 47/55\n",
            "268/268 [==============================] - 1s 5ms/step - loss: 0.3088 - accuracy: 0.9888 - val_loss: 0.3089 - val_accuracy: 0.9800\n",
            "Epoch 48/55\n",
            "268/268 [==============================] - 1s 5ms/step - loss: 0.2953 - accuracy: 0.9925 - val_loss: 0.3020 - val_accuracy: 0.9800\n",
            "Epoch 49/55\n",
            "268/268 [==============================] - 1s 5ms/step - loss: 0.2834 - accuracy: 0.9925 - val_loss: 0.3002 - val_accuracy: 0.9800\n",
            "Epoch 50/55\n",
            "268/268 [==============================] - 1s 3ms/step - loss: 0.2752 - accuracy: 0.9925 - val_loss: 0.2998 - val_accuracy: 0.9700\n",
            "Epoch 51/55\n",
            "268/268 [==============================] - 1s 3ms/step - loss: 0.2651 - accuracy: 0.9888 - val_loss: 0.2689 - val_accuracy: 0.9800\n",
            "Epoch 52/55\n",
            "268/268 [==============================] - 1s 3ms/step - loss: 0.2561 - accuracy: 0.9851 - val_loss: 0.2591 - val_accuracy: 0.9800\n",
            "Epoch 53/55\n",
            "268/268 [==============================] - 1s 3ms/step - loss: 0.2493 - accuracy: 0.9888 - val_loss: 0.2443 - val_accuracy: 0.9850\n",
            "Epoch 54/55\n",
            "268/268 [==============================] - 1s 3ms/step - loss: 0.2440 - accuracy: 0.9888 - val_loss: 0.2433 - val_accuracy: 0.9800\n",
            "Epoch 55/55\n",
            "268/268 [==============================] - 1s 3ms/step - loss: 0.2295 - accuracy: 0.9925 - val_loss: 0.2498 - val_accuracy: 0.9800\n"
          ]
        }
      ]
    },
    {
      "cell_type": "code",
      "source": [
        "test_crossentropy, test_accuracy = regularized_model.evaluate(X_test_scaled, y_test)\n",
        "print('Loss of testset (Cross Entropy):', test_crossentropy)\n",
        "print('Metric of testset (Accuracy):', test_accuracy)"
      ],
      "metadata": {
        "colab": {
          "base_uri": "https://localhost:8080/"
        },
        "id": "955CirPCqUaa",
        "outputId": "18b983c9-a53d-471c-985c-a3deaa81712a"
      },
      "execution_count": null,
      "outputs": [
        {
          "output_type": "stream",
          "name": "stdout",
          "text": [
            "8/8 [==============================] - 0s 3ms/step - loss: 0.4394 - accuracy: 0.9177\n",
            "Loss of testset (Cross Entropy): 0.4393720328807831\n",
            "Metric of testset (Accuracy): 0.9177489280700684\n"
          ]
        }
      ]
    },
    {
      "cell_type": "markdown",
      "source": [
        "## Plots after Regularization"
      ],
      "metadata": {
        "id": "cbJY-soBriSQ"
      }
    },
    {
      "cell_type": "code",
      "source": [
        "history_reg_dict = history_reg.history"
      ],
      "metadata": {
        "id": "S7mVNT7nq0H0"
      },
      "execution_count": null,
      "outputs": []
    },
    {
      "cell_type": "code",
      "source": [
        "# Plot training and validation Loss\n",
        "\n",
        "train_loss_values = history_reg_dict['loss']\n",
        "val_loss_values = history_reg_dict['val_loss']\n",
        "epochs = range(1, len(train_loss_values)+1)\n",
        "\n",
        "plt.plot(epochs, train_loss_values, 'bo', label='Training loss')\n",
        "plt.plot(epochs, val_loss_values, 'b', label='Validation loss')\n",
        "plt.title('Training and validation Loss')\n",
        "plt.xlabel('Epochs')\n",
        "plt.ylabel('Loss')\n",
        "plt.legend()\n",
        "plt.show()"
      ],
      "metadata": {
        "colab": {
          "base_uri": "https://localhost:8080/",
          "height": 472
        },
        "id": "b_agqP7kqtbG",
        "outputId": "7ca21083-2742-4bb0-f942-6167fa7e38d5"
      },
      "execution_count": null,
      "outputs": [
        {
          "output_type": "display_data",
          "data": {
            "text/plain": [
              "<Figure size 640x480 with 1 Axes>"
            ],
            "image/png": "[encoded data removed]"
          },
          "metadata": {}
        }
      ]
    },
    {
      "cell_type": "code",
      "source": [
        "# Plot training and validation Accuracy\n",
        "\n",
        "train_acc_values = history_reg_dict['accuracy']\n",
        "val_acc_values = history_reg_dict['val_accuracy']\n",
        "epochs = range(1, len(train_acc_values)+1)\n",
        "\n",
        "plt.plot(epochs, train_acc_values, 'bo', label='Training acc')\n",
        "plt.plot(epochs, val_acc_values, 'b', label='Validation acc')\n",
        "plt.title('Training and validation Accuracy')\n",
        "plt.xlabel('Epochs')\n",
        "plt.ylabel('Accuracy')\n",
        "plt.legend()\n",
        "plt.show()"
      ],
      "metadata": {
        "colab": {
          "base_uri": "https://localhost:8080/",
          "height": 472
        },
        "id": "IaSpeYviqtjE",
        "outputId": "15ee4bde-6da0-4a5c-f7df-60727b9ac9c6"
      },
      "execution_count": null,
      "outputs": [
        {
          "output_type": "display_data",
          "data": {
            "text/plain": [
              "<Figure size 640x480 with 1 Axes>"
            ],
            "image/png": "[encoded data removed]"
          },
          "metadata": {}
        }
      ]
    }
  ]
}